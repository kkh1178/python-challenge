{
 "cells": [
  {
   "cell_type": "code",
   "execution_count": 8,
   "metadata": {},
   "outputs": [],
   "source": [
    "#Import the library that you want to use for this program\n",
    "import csv\n",
    "import os"
   ]
  },
  {
   "cell_type": "code",
   "execution_count": 9,
   "metadata": {},
   "outputs": [],
   "source": [
    "#Import two csv files that you are going to modify\n",
    "file_path1 = os.path.join(\"/Users/kh/Desktop/BOOTCAMP/Week3/Homework3/python-challenge/Pyboss\", \"employee_data\", \"employee_data1.csv\")\n",
    "file_path2 = os.path.join(\"/Users/kh/Desktop/BOOTCAMP/Week3/Homework3/python-challenge/Pyboss\", \"employee_data\", \"employee_data2.csv\")"
   ]
  },
  {
   "cell_type": "code",
   "execution_count": 18,
   "metadata": {},
   "outputs": [],
   "source": [
    "#Now we are going to read the first csv file \n",
    "with open(file_path1) as csvfile:\n",
    "    \n",
    "    readthis = csv.DictReader(csvfile)\n",
    "    #For each of the rows in the readthis file, I defined the row headers.\n",
    "    for row in readthis:\n",
    "        emp_id = row[\"Emp ID\"]\n",
    "        name = row[\"Name\"]\n",
    "        dob = row[\"DOB\"]\n",
    "        SSN = row[\"SSN\"] \n",
    "        state = row[\"State\"]\n",
    "\n",
    "        #I need to split the Name row so I can get the first and last name\n",
    "        for oldnames in name:\n",
    "            newname = name.split()"
   ]
  },
  {
   "cell_type": "code",
   "execution_count": null,
   "metadata": {},
   "outputs": [],
   "source": []
  }
 ],
 "metadata": {
  "kernelspec": {
   "display_name": "Python [conda env:PythonData]",
   "language": "python",
   "name": "conda-env-PythonData-py"
  },
  "language_info": {
   "codemirror_mode": {
    "name": "ipython",
    "version": 3
   },
   "file_extension": ".py",
   "mimetype": "text/x-python",
   "name": "python",
   "nbconvert_exporter": "python",
   "pygments_lexer": "ipython3",
   "version": "3.6.4"
  }
 },
 "nbformat": 4,
 "nbformat_minor": 2
}
